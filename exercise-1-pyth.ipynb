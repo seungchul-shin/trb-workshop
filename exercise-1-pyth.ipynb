{
 "cells": [
  {
   "cell_type": "markdown",
   "id": "1284f132",
   "metadata": {},
   "source": [
    "# Original Version in R"
   ]
  },
  {
   "cell_type": "markdown",
   "id": "9ff6c41a",
   "metadata": {},
   "source": [
    "```R\n",
    "## load libraries ####\n",
    "library(data.table) # fast data loading and manipulation\n",
    "library(ggplot2)  # visualization\n",
    "\n",
    "## import data ####\n",
    "dat <- fread('workshop/exercise-1/exercise-1-APC-data.csv')\n",
    "\n",
    "## first look & summarize data ####\n",
    "scales::comma(nrow(dat)) # 1,387,869 rows of APC data\n",
    "summary(dat) # check range of dates, distribution of ons and offs\n",
    "\n",
    "dat[, .N, line_id] # how many routes included?\n",
    "dat[, .N, .(line_id, line_direction)] # how many route-direction observations? \n",
    "dat[, .(trips = uniqueN(trip_id)), line_id] # how many unique trips per route?\n",
    "dat[, uniqueN(stop_id)] #how many stops included? \n",
    "dat[, unique(TOD)] # what does the TOD variable contain?\n",
    "\n",
    "dat[1:10, depart] # view a sample of the data - depart\n",
    " \n",
    "## What are the dimensions of the data? ####\n",
    "\n",
    "\n",
    "## What is the average weekday ridership by route? ####\n",
    "# sum ons by date by route, for only weekday\n",
    "rides_by_day <- dat[service_abbr == 'WK', .(daily_rides = sum(total_ons)), keyby = .(calendar_date, line_id)] # keyby gives an additional benefit of fast sorting by the aggregator columns... try using just 'by'\n",
    "\n",
    "# then take the average across all the weekdays in the dataset\n",
    "weekday_avg <- rides_by_day[, .(weekday_avg = mean(daily_rides)), line_id]\n",
    "weekday_avg # print result\n",
    "weekday_avg[, .(line_id, WK_avg = scales::comma(weekday_avg))] # round and format nicely\n",
    "\n",
    "\n",
    "\n",
    "## what is the busiest stop in the dataset? ####\n",
    "# decide: what does busiest mean? \n",
    "# assume: most total boardings\n",
    "\n",
    "# create list of total boardings across all days by route, stop\n",
    "stop_boards <- dat[, .(total_boardings = sum(total_ons)), .(stop_id, line_id)]\n",
    "\n",
    "# sort by total boardings in dataset\n",
    "stop_boards[order(-total_boardings)] # sorting by \"-\" means sort descending\n",
    "\n",
    "\n",
    "## how does ridership correspond with peak times of day? ####\n",
    "# take weekday average, by TOD, by line_id - similar to first aggregate but additional factor\n",
    "rides_by_day_tod <- dat[service_abbr == 'WK', .(daily_rides = sum(total_ons)), keyby = .(calendar_date, line_id, TOD)] \n",
    "\n",
    "# summarize by taking median instead of mean to get better sense of regular activity\n",
    "weekday_avg_tod <- rides_by_day_tod[, .(weekday_avg = mean(daily_rides)), .(line_id, TOD)]\n",
    "\n",
    "# make a new variable to look at peak times only for ease of comparison\n",
    "weekday_avg_tod[, peak := ifelse(TOD %in% c('AM Peak', 'PM Peak'), TRUE, FALSE)]\n",
    "weekday_avg_tod[, sum(weekday_avg), peak]\n",
    "\n",
    "## graph of ridership time series ####\n",
    "# first aggregate to monthly average weekday boardings, using first aggregate\n",
    "toplot <- rides_by_day[, .(avg_wkday = mean(daily_rides)), keyby = .(month(calendar_date), line_id)]\n",
    "\n",
    "ggplot(toplot, aes(x = factor(month), y = avg_wkday, col = factor(line_id))) + \n",
    "  geom_path(aes(group = line_id)) +\n",
    "  geom_point(alpha = 0.6) \n",
    "\n",
    "```"
   ]
  },
  {
   "cell_type": "markdown",
   "id": "0c3df208",
   "metadata": {},
   "source": [
    "Credit by [TRB Standing Committee on Transit Data](https://github.com/trb-transformative-transit-data/tttd)"
   ]
  },
  {
   "cell_type": "markdown",
   "id": "da725694",
   "metadata": {},
   "source": [
    "# Code in Python"
   ]
  },
  {
   "cell_type": "code",
   "execution_count": 118,
   "id": "a5fe7770",
   "metadata": {},
   "outputs": [],
   "source": [
    "## load libraries ##\n",
    "import os\n",
    "import numpy as np\n",
    "import pandas as pd # data manipulation\n",
    "\n",
    "from scipy.stats import gaussian_kde # kernel density plot\n",
    "from numpy import linspace\n",
    "\n",
    "import matplotlib.pyplot as plt # visualization"
   ]
  },
  {
   "cell_type": "code",
   "execution_count": 13,
   "id": "24686393",
   "metadata": {},
   "outputs": [],
   "source": [
    "## pandas configurations ##\n",
    "pd.options.display.float_format = \"{:,.2f}\".format"
   ]
  },
  {
   "cell_type": "code",
   "execution_count": 7,
   "id": "1000c8ab",
   "metadata": {},
   "outputs": [
    {
     "data": {
      "text/plain": [
       "'C:\\\\Users\\\\shin\\\\OneDrive - UOS\\\\10. Computer (UoS)\\\\05. Seminar (ITS LAB)\\\\2023-01\\\\Hands-on'"
      ]
     },
     "execution_count": 7,
     "metadata": {},
     "output_type": "execute_result"
    }
   ],
   "source": [
    "os.getcwd()"
   ]
  },
  {
   "cell_type": "code",
   "execution_count": 8,
   "id": "101e0778",
   "metadata": {},
   "outputs": [],
   "source": [
    "## import data ##\n",
    "dat = pd.read_csv(\"./workshop/exercise-1/exercise-1-APC-data.csv\")"
   ]
  },
  {
   "cell_type": "markdown",
   "id": "3531d7a4",
   "metadata": {},
   "source": [
    "## 1. Examine data columns"
   ]
  },
  {
   "cell_type": "code",
   "execution_count": 10,
   "id": "9a6c8cb9",
   "metadata": {},
   "outputs": [
    {
     "data": {
      "text/plain": [
       "(1387869, 11)"
      ]
     },
     "execution_count": 10,
     "metadata": {},
     "output_type": "execute_result"
    }
   ],
   "source": [
    "dat.shape"
   ]
  },
  {
   "cell_type": "code",
   "execution_count": 12,
   "id": "9f259ebd",
   "metadata": {},
   "outputs": [
    {
     "name": "stdout",
     "output_type": "stream",
     "text": [
      "<class 'pandas.core.frame.DataFrame'>\n",
      "RangeIndex: 1387869 entries, 0 to 1387868\n",
      "Data columns (total 11 columns):\n",
      " #   Column          Non-Null Count    Dtype  \n",
      "---  ------          --------------    -----  \n",
      " 0   calendar_date   1387869 non-null  object \n",
      " 1   service_abbr    1387869 non-null  object \n",
      " 2   line_id         1387869 non-null  int64  \n",
      " 3   line_direction  1387862 non-null  object \n",
      " 4   trip_id         1385810 non-null  float64\n",
      " 5   stop_id         1387862 non-null  object \n",
      " 6   TOD             1387869 non-null  object \n",
      " 7   depart          1387862 non-null  object \n",
      " 8   sched           1387862 non-null  object \n",
      " 9   total_ons       1387869 non-null  int64  \n",
      " 10  total_offs      1387869 non-null  int64  \n",
      "dtypes: float64(1), int64(3), object(7)\n",
      "memory usage: 116.5+ MB\n"
     ]
    }
   ],
   "source": [
    "dat.info()"
   ]
  },
  {
   "cell_type": "code",
   "execution_count": 14,
   "id": "d4d10e88",
   "metadata": {},
   "outputs": [
    {
     "data": {
      "text/html": [
       "<div>\n",
       "<style scoped>\n",
       "    .dataframe tbody tr th:only-of-type {\n",
       "        vertical-align: middle;\n",
       "    }\n",
       "\n",
       "    .dataframe tbody tr th {\n",
       "        vertical-align: top;\n",
       "    }\n",
       "\n",
       "    .dataframe thead th {\n",
       "        text-align: right;\n",
       "    }\n",
       "</style>\n",
       "<table border=\"1\" class=\"dataframe\">\n",
       "  <thead>\n",
       "    <tr style=\"text-align: right;\">\n",
       "      <th></th>\n",
       "      <th>line_id</th>\n",
       "      <th>trip_id</th>\n",
       "      <th>total_ons</th>\n",
       "      <th>total_offs</th>\n",
       "    </tr>\n",
       "  </thead>\n",
       "  <tbody>\n",
       "    <tr>\n",
       "      <th>count</th>\n",
       "      <td>1,387,869.00</td>\n",
       "      <td>1,385,810.00</td>\n",
       "      <td>1,387,869.00</td>\n",
       "      <td>1,387,869.00</td>\n",
       "    </tr>\n",
       "    <tr>\n",
       "      <th>mean</th>\n",
       "      <td>40.63</td>\n",
       "      <td>18,740,364.76</td>\n",
       "      <td>1.06</td>\n",
       "      <td>1.05</td>\n",
       "    </tr>\n",
       "    <tr>\n",
       "      <th>std</th>\n",
       "      <td>20.41</td>\n",
       "      <td>577,434.73</td>\n",
       "      <td>1.55</td>\n",
       "      <td>1.51</td>\n",
       "    </tr>\n",
       "    <tr>\n",
       "      <th>min</th>\n",
       "      <td>22.00</td>\n",
       "      <td>17,784,415.00</td>\n",
       "      <td>0.00</td>\n",
       "      <td>0.00</td>\n",
       "    </tr>\n",
       "    <tr>\n",
       "      <th>25%</th>\n",
       "      <td>22.00</td>\n",
       "      <td>18,272,681.00</td>\n",
       "      <td>0.00</td>\n",
       "      <td>0.00</td>\n",
       "    </tr>\n",
       "    <tr>\n",
       "      <th>50%</th>\n",
       "      <td>22.00</td>\n",
       "      <td>18,791,896.00</td>\n",
       "      <td>1.00</td>\n",
       "      <td>1.00</td>\n",
       "    </tr>\n",
       "    <tr>\n",
       "      <th>75%</th>\n",
       "      <td>63.00</td>\n",
       "      <td>19,090,773.00</td>\n",
       "      <td>1.00</td>\n",
       "      <td>1.00</td>\n",
       "    </tr>\n",
       "    <tr>\n",
       "      <th>max</th>\n",
       "      <td>63.00</td>\n",
       "      <td>20,104,413.00</td>\n",
       "      <td>91.00</td>\n",
       "      <td>164.00</td>\n",
       "    </tr>\n",
       "  </tbody>\n",
       "</table>\n",
       "</div>"
      ],
      "text/plain": [
       "           line_id       trip_id    total_ons   total_offs\n",
       "count 1,387,869.00  1,385,810.00 1,387,869.00 1,387,869.00\n",
       "mean         40.63 18,740,364.76         1.06         1.05\n",
       "std          20.41    577,434.73         1.55         1.51\n",
       "min          22.00 17,784,415.00         0.00         0.00\n",
       "25%          22.00 18,272,681.00         0.00         0.00\n",
       "50%          22.00 18,791,896.00         1.00         1.00\n",
       "75%          63.00 19,090,773.00         1.00         1.00\n",
       "max          63.00 20,104,413.00        91.00       164.00"
      ]
     },
     "execution_count": 14,
     "metadata": {},
     "output_type": "execute_result"
    }
   ],
   "source": [
    "dat.describe()"
   ]
  },
  {
   "cell_type": "code",
   "execution_count": 17,
   "id": "248d798b",
   "metadata": {},
   "outputs": [
    {
     "data": {
      "text/plain": [
       "line_id\n",
       "22    757115\n",
       "63    630754\n",
       "dtype: int64"
      ]
     },
     "execution_count": 17,
     "metadata": {},
     "output_type": "execute_result"
    }
   ],
   "source": [
    "dat.groupby(\"line_id\").size()"
   ]
  },
  {
   "cell_type": "code",
   "execution_count": 20,
   "id": "6c02ebd7",
   "metadata": {},
   "outputs": [
    {
     "data": {
      "text/plain": [
       "line_id  line_direction\n",
       "22       N                 367946\n",
       "         S                 389169\n",
       "63       E                 311507\n",
       "         W                 319240\n",
       "         NaN                    7\n",
       "dtype: int64"
      ]
     },
     "execution_count": 20,
     "metadata": {},
     "output_type": "execute_result"
    }
   ],
   "source": [
    "dat.groupby([\"line_id\", \"line_direction\"], dropna=False).size()"
   ]
  },
  {
   "cell_type": "markdown",
   "id": "9c1dae08",
   "metadata": {},
   "source": [
    "From `pandas 1.1` you have better control over this behavior, `NA` values are now allowed in the grouper using `dropna=False`.\n",
    "[\\[source\\]](https://stackoverflow.com/questions/18429491/pandas-groupby-columns-with-nan-missing-values)"
   ]
  },
  {
   "cell_type": "code",
   "execution_count": 23,
   "id": "8f1aaef3",
   "metadata": {},
   "outputs": [
    {
     "data": {
      "text/plain": [
       "501"
      ]
     },
     "execution_count": 23,
     "metadata": {},
     "output_type": "execute_result"
    }
   ],
   "source": [
    "dat[\"stop_id\"].nunique()"
   ]
  },
  {
   "cell_type": "code",
   "execution_count": 25,
   "id": "cbfc89dc",
   "metadata": {},
   "outputs": [
    {
     "data": {
      "text/plain": [
       "array(['AM Peak', 'Early', 'Midday', 'PM Peak', 'Night', 'Owl'],\n",
       "      dtype=object)"
      ]
     },
     "execution_count": 25,
     "metadata": {},
     "output_type": "execute_result"
    }
   ],
   "source": [
    "dat[\"TOD\"].unique()"
   ]
  },
  {
   "cell_type": "markdown",
   "id": "75656fe3",
   "metadata": {},
   "source": [
    "## 2. Code or pseudo-code the answer to the following queries\n",
    "\n",
    "1. What is the average weekday ridership by route?\n",
    "1. What is the busiest stop in the dataset?\n",
    "1. How does ridership correspond with \"peak\" times of day?"
   ]
  },
  {
   "cell_type": "markdown",
   "id": "13660ae7",
   "metadata": {},
   "source": [
    "### 2-1. the average weekday ridership by route"
   ]
  },
  {
   "cell_type": "code",
   "execution_count": 37,
   "id": "02b43ddc",
   "metadata": {},
   "outputs": [],
   "source": [
    "rides_by_day = dat.loc[dat.service_abbr == \"WK\"].groupby([\"calendar_date\", \"line_id\"], dropna=False).agg(\\\n",
    "                                                daily_rides = pd.NamedAgg(column=\"total_ons\", aggfunc=\"sum\"))"
   ]
  },
  {
   "cell_type": "code",
   "execution_count": 38,
   "id": "c574e2cb",
   "metadata": {},
   "outputs": [
    {
     "data": {
      "text/html": [
       "<div>\n",
       "<style scoped>\n",
       "    .dataframe tbody tr th:only-of-type {\n",
       "        vertical-align: middle;\n",
       "    }\n",
       "\n",
       "    .dataframe tbody tr th {\n",
       "        vertical-align: top;\n",
       "    }\n",
       "\n",
       "    .dataframe thead th {\n",
       "        text-align: right;\n",
       "    }\n",
       "</style>\n",
       "<table border=\"1\" class=\"dataframe\">\n",
       "  <thead>\n",
       "    <tr style=\"text-align: right;\">\n",
       "      <th></th>\n",
       "      <th></th>\n",
       "      <th>daily_rides</th>\n",
       "    </tr>\n",
       "    <tr>\n",
       "      <th>calendar_date</th>\n",
       "      <th>line_id</th>\n",
       "      <th></th>\n",
       "    </tr>\n",
       "  </thead>\n",
       "  <tbody>\n",
       "    <tr>\n",
       "      <th rowspan=\"2\" valign=\"top\">2021-01-04</th>\n",
       "      <th>22</th>\n",
       "      <td>2151</td>\n",
       "    </tr>\n",
       "    <tr>\n",
       "      <th>63</th>\n",
       "      <td>1850</td>\n",
       "    </tr>\n",
       "    <tr>\n",
       "      <th rowspan=\"2\" valign=\"top\">2021-01-05</th>\n",
       "      <th>22</th>\n",
       "      <td>1818</td>\n",
       "    </tr>\n",
       "    <tr>\n",
       "      <th>63</th>\n",
       "      <td>1645</td>\n",
       "    </tr>\n",
       "    <tr>\n",
       "      <th>2021-01-06</th>\n",
       "      <th>22</th>\n",
       "      <td>1971</td>\n",
       "    </tr>\n",
       "    <tr>\n",
       "      <th>...</th>\n",
       "      <th>...</th>\n",
       "      <td>...</td>\n",
       "    </tr>\n",
       "    <tr>\n",
       "      <th>2021-12-29</th>\n",
       "      <th>63</th>\n",
       "      <td>1558</td>\n",
       "    </tr>\n",
       "    <tr>\n",
       "      <th rowspan=\"2\" valign=\"top\">2021-12-30</th>\n",
       "      <th>22</th>\n",
       "      <td>2092</td>\n",
       "    </tr>\n",
       "    <tr>\n",
       "      <th>63</th>\n",
       "      <td>1582</td>\n",
       "    </tr>\n",
       "    <tr>\n",
       "      <th rowspan=\"2\" valign=\"top\">2021-12-31</th>\n",
       "      <th>22</th>\n",
       "      <td>1822</td>\n",
       "    </tr>\n",
       "    <tr>\n",
       "      <th>63</th>\n",
       "      <td>1272</td>\n",
       "    </tr>\n",
       "  </tbody>\n",
       "</table>\n",
       "<p>510 rows × 1 columns</p>\n",
       "</div>"
      ],
      "text/plain": [
       "                       daily_rides\n",
       "calendar_date line_id             \n",
       "2021-01-04    22              2151\n",
       "              63              1850\n",
       "2021-01-05    22              1818\n",
       "              63              1645\n",
       "2021-01-06    22              1971\n",
       "...                            ...\n",
       "2021-12-29    63              1558\n",
       "2021-12-30    22              2092\n",
       "              63              1582\n",
       "2021-12-31    22              1822\n",
       "              63              1272\n",
       "\n",
       "[510 rows x 1 columns]"
      ]
     },
     "execution_count": 38,
     "metadata": {},
     "output_type": "execute_result"
    }
   ],
   "source": [
    "rides_by_day"
   ]
  },
  {
   "cell_type": "code",
   "execution_count": 39,
   "id": "b88f4405",
   "metadata": {},
   "outputs": [
    {
     "data": {
      "text/html": [
       "<div>\n",
       "<style scoped>\n",
       "    .dataframe tbody tr th:only-of-type {\n",
       "        vertical-align: middle;\n",
       "    }\n",
       "\n",
       "    .dataframe tbody tr th {\n",
       "        vertical-align: top;\n",
       "    }\n",
       "\n",
       "    .dataframe thead th {\n",
       "        text-align: right;\n",
       "    }\n",
       "</style>\n",
       "<table border=\"1\" class=\"dataframe\">\n",
       "  <thead>\n",
       "    <tr style=\"text-align: right;\">\n",
       "      <th></th>\n",
       "      <th>weekday_avg</th>\n",
       "    </tr>\n",
       "    <tr>\n",
       "      <th>line_id</th>\n",
       "      <th></th>\n",
       "    </tr>\n",
       "  </thead>\n",
       "  <tbody>\n",
       "    <tr>\n",
       "      <th>22</th>\n",
       "      <td>2,481.29</td>\n",
       "    </tr>\n",
       "    <tr>\n",
       "      <th>63</th>\n",
       "      <td>2,044.60</td>\n",
       "    </tr>\n",
       "  </tbody>\n",
       "</table>\n",
       "</div>"
      ],
      "text/plain": [
       "         weekday_avg\n",
       "line_id             \n",
       "22          2,481.29\n",
       "63          2,044.60"
      ]
     },
     "execution_count": 39,
     "metadata": {},
     "output_type": "execute_result"
    }
   ],
   "source": [
    "rides_by_day.groupby(\"line_id\").agg(\\\n",
    "                                weekday_avg = pd.NamedAgg(column=\"daily_rides\", aggfunc=\"mean\"))"
   ]
  },
  {
   "cell_type": "markdown",
   "id": "a88eaef4",
   "metadata": {},
   "source": [
    "### 2-2. the busiest stop in the dataset"
   ]
  },
  {
   "cell_type": "code",
   "execution_count": 45,
   "id": "5fd284d1",
   "metadata": {},
   "outputs": [],
   "source": [
    "stop_boards = dat.groupby([\"stop_id\", \"line_id\"], dropna=False).agg(\\\n",
    "                                    total_boardings = pd.NamedAgg(column=\"total_ons\", aggfunc=\"sum\"))"
   ]
  },
  {
   "cell_type": "code",
   "execution_count": 48,
   "id": "b12a775e",
   "metadata": {},
   "outputs": [
    {
     "data": {
      "text/html": [
       "<div>\n",
       "<style scoped>\n",
       "    .dataframe tbody tr th:only-of-type {\n",
       "        vertical-align: middle;\n",
       "    }\n",
       "\n",
       "    .dataframe tbody tr th {\n",
       "        vertical-align: top;\n",
       "    }\n",
       "\n",
       "    .dataframe thead th {\n",
       "        text-align: right;\n",
       "    }\n",
       "</style>\n",
       "<table border=\"1\" class=\"dataframe\">\n",
       "  <thead>\n",
       "    <tr style=\"text-align: right;\">\n",
       "      <th></th>\n",
       "      <th></th>\n",
       "      <th>total_boardings</th>\n",
       "    </tr>\n",
       "    <tr>\n",
       "      <th>stop_id</th>\n",
       "      <th>line_id</th>\n",
       "      <th></th>\n",
       "    </tr>\n",
       "  </thead>\n",
       "  <tbody>\n",
       "    <tr>\n",
       "      <th>11837</th>\n",
       "      <th>63</th>\n",
       "      <td>69743</td>\n",
       "    </tr>\n",
       "    <tr>\n",
       "      <th>51114</th>\n",
       "      <th>63</th>\n",
       "      <td>65089</td>\n",
       "    </tr>\n",
       "    <tr>\n",
       "      <th>56825</th>\n",
       "      <th>22</th>\n",
       "      <td>59844</td>\n",
       "    </tr>\n",
       "    <tr>\n",
       "      <th>53788</th>\n",
       "      <th>22</th>\n",
       "      <td>43734</td>\n",
       "    </tr>\n",
       "    <tr>\n",
       "      <th>11180</th>\n",
       "      <th>22</th>\n",
       "      <td>27813</td>\n",
       "    </tr>\n",
       "    <tr>\n",
       "      <th>...</th>\n",
       "      <th>...</th>\n",
       "      <td>...</td>\n",
       "    </tr>\n",
       "    <tr>\n",
       "      <th>11463</th>\n",
       "      <th>22</th>\n",
       "      <td>1</td>\n",
       "    </tr>\n",
       "    <tr>\n",
       "      <th>53878</th>\n",
       "      <th>22</th>\n",
       "      <td>0</td>\n",
       "    </tr>\n",
       "    <tr>\n",
       "      <th>19440</th>\n",
       "      <th>22</th>\n",
       "      <td>0</td>\n",
       "    </tr>\n",
       "    <tr>\n",
       "      <th>11461</th>\n",
       "      <th>22</th>\n",
       "      <td>0</td>\n",
       "    </tr>\n",
       "    <tr>\n",
       "      <th>NaN</th>\n",
       "      <th>63</th>\n",
       "      <td>0</td>\n",
       "    </tr>\n",
       "  </tbody>\n",
       "</table>\n",
       "<p>502 rows × 1 columns</p>\n",
       "</div>"
      ],
      "text/plain": [
       "                 total_boardings\n",
       "stop_id line_id                 \n",
       "11837   63                 69743\n",
       "51114   63                 65089\n",
       "56825   22                 59844\n",
       "53788   22                 43734\n",
       "11180   22                 27813\n",
       "...                          ...\n",
       "11463   22                     1\n",
       "53878   22                     0\n",
       "19440   22                     0\n",
       "11461   22                     0\n",
       "NaN     63                     0\n",
       "\n",
       "[502 rows x 1 columns]"
      ]
     },
     "execution_count": 48,
     "metadata": {},
     "output_type": "execute_result"
    }
   ],
   "source": [
    "stop_boards.sort_values(\"total_boardings\", ascending=False)"
   ]
  },
  {
   "cell_type": "markdown",
   "id": "c8a010cd",
   "metadata": {},
   "source": [
    "### 2-3. correspondence of ridership with \"PK\" TOD"
   ]
  },
  {
   "cell_type": "code",
   "execution_count": 51,
   "id": "e9be6a3e",
   "metadata": {},
   "outputs": [],
   "source": [
    "rides_by_day_tod = dat.loc[dat.service_abbr == \"WK\"].groupby([\"calendar_date\", \"line_id\", \"TOD\"]).agg(\\\n",
    "                                                                    daily_rides = pd.NamedAgg(column=\"total_ons\", aggfunc=\"sum\"))"
   ]
  },
  {
   "cell_type": "code",
   "execution_count": 183,
   "id": "36c7a7c7",
   "metadata": {},
   "outputs": [],
   "source": [
    "weekday_avg_tod = rides_by_day_tod.groupby([\"line_id\", \"TOD\"]).agg(\\\n",
    "                                            weekday_avg = pd.NamedAgg(column=\"daily_rides\", aggfunc=\"mean\"))"
   ]
  },
  {
   "cell_type": "code",
   "execution_count": 232,
   "id": "82726ded",
   "metadata": {
    "scrolled": false
   },
   "outputs": [
    {
     "name": "stdout",
     "output_type": "stream",
     "text": [
      "(22, 'AM Peak')\n"
     ]
    },
    {
     "data": {
      "image/png": "[encoded data removed]",
      "text/plain": [
       "<Figure size 432x288 with 1 Axes>"
      ]
     },
     "metadata": {
      "needs_background": "light"
     },
     "output_type": "display_data"
    },
    {
     "name": "stdout",
     "output_type": "stream",
     "text": [
      "(22, 'Early')\n"
     ]
    },
    {
     "data": {
      "image/png": "[encoded data removed]",
      "text/plain": [
       "<Figure size 432x288 with 1 Axes>"
      ]
     },
     "metadata": {
      "needs_background": "light"
     },
     "output_type": "display_data"
    },
    {
     "name": "stdout",
     "output_type": "stream",
     "text": [
      "(22, 'Midday')\n"
     ]
    },
    {
     "data": {
      "image/png": "[encoded data removed]",
      "text/plain": [
       "<Figure size 432x288 with 1 Axes>"
      ]
     },
     "metadata": {
      "needs_background": "light"
     },
     "output_type": "display_data"
    },
    {
     "name": "stdout",
     "output_type": "stream",
     "text": [
      "(22, 'Night')\n"
     ]
    },
    {
     "data": {
      "image/png": "[encoded data removed]",
      "text/plain": [
       "<Figure size 432x288 with 1 Axes>"
      ]
     },
     "metadata": {
      "needs_background": "light"
     },
     "output_type": "display_data"
    },
    {
     "name": "stdout",
     "output_type": "stream",
     "text": [
      "(22, 'Owl')\n"
     ]
    },
    {
     "data": {
      "image/png": "[encoded data removed]",
      "text/plain": [
       "<Figure size 432x288 with 1 Axes>"
      ]
     },
     "metadata": {
      "needs_background": "light"
     },
     "output_type": "display_data"
    },
    {
     "name": "stdout",
     "output_type": "stream",
     "text": [
      "(22, 'PM Peak')\n"
     ]
    },
    {
     "data": {
      "image/png": "[encoded data removed]",
      "text/plain": [
       "<Figure size 432x288 with 1 Axes>"
      ]
     },
     "metadata": {
      "needs_background": "light"
     },
     "output_type": "display_data"
    },
    {
     "name": "stdout",
     "output_type": "stream",
     "text": [
      "(63, 'AM Peak')\n"
     ]
    },
    {
     "data": {
      "image/png": "[encoded data removed]",
      "text/plain": [
       "<Figure size 432x288 with 1 Axes>"
      ]
     },
     "metadata": {
      "needs_background": "light"
     },
     "output_type": "display_data"
    },
    {
     "name": "stdout",
     "output_type": "stream",
     "text": [
      "(63, 'Early')\n"
     ]
    },
    {
     "data": {
      "image/png": "[encoded data removed]",
      "text/plain": [
       "<Figure size 432x288 with 1 Axes>"
      ]
     },
     "metadata": {
      "needs_background": "light"
     },
     "output_type": "display_data"
    },
    {
     "name": "stdout",
     "output_type": "stream",
     "text": [
      "(63, 'Midday')\n"
     ]
    },
    {
     "data": {
      "image/png": "[encoded data removed]",
      "text/plain": [
       "<Figure size 432x288 with 1 Axes>"
      ]
     },
     "metadata": {
      "needs_background": "light"
     },
     "output_type": "display_data"
    },
    {
     "name": "stdout",
     "output_type": "stream",
     "text": [
      "(63, 'Night')\n"
     ]
    },
    {
     "data": {
      "image/png": "[encoded data removed]",
      "text/plain": [
       "<Figure size 432x288 with 1 Axes>"
      ]
     },
     "metadata": {
      "needs_background": "light"
     },
     "output_type": "display_data"
    },
    {
     "name": "stdout",
     "output_type": "stream",
     "text": [
      "(63, 'Owl')\n"
     ]
    },
    {
     "data": {
      "image/png": "[encoded data removed]",
      "text/plain": [
       "<Figure size 432x288 with 1 Axes>"
      ]
     },
     "metadata": {
      "needs_background": "light"
     },
     "output_type": "display_data"
    },
    {
     "name": "stdout",
     "output_type": "stream",
     "text": [
      "(63, 'PM Peak')\n"
     ]
    },
    {
     "data": {
      "image/png": "[encoded data removed]",
      "text/plain": [
       "<Figure size 432x288 with 1 Axes>"
      ]
     },
     "metadata": {
      "needs_background": "light"
     },
     "output_type": "display_data"
    }
   ],
   "source": [
    "for name, group in rides_by_day_tod.groupby([\"line_id\", \"TOD\"]):\n",
    "    print(name)\n",
    "    group.daily_rides.plot.hist()\n",
    "    plt.show()"
   ]
  },
  {
   "cell_type": "code",
   "execution_count": 231,
   "id": "9f5451a0",
   "metadata": {
    "scrolled": false
   },
   "outputs": [
    {
     "name": "stdout",
     "output_type": "stream",
     "text": [
      "(22, 'AM Peak')\n"
     ]
    },
    {
     "data": {
      "image/png": "[encoded data removed]",
      "text/plain": [
       "<Figure size 432x288 with 1 Axes>"
      ]
     },
     "metadata": {
      "needs_background": "light"
     },
     "output_type": "display_data"
    },
    {
     "name": "stdout",
     "output_type": "stream",
     "text": [
      "(22, 'Early')\n"
     ]
    },
    {
     "data": {
      "image/png": "[encoded data removed]",
      "text/plain": [
       "<Figure size 432x288 with 1 Axes>"
      ]
     },
     "metadata": {
      "needs_background": "light"
     },
     "output_type": "display_data"
    },
    {
     "name": "stdout",
     "output_type": "stream",
     "text": [
      "(22, 'Midday')\n"
     ]
    },
    {
     "data": {
      "image/png": "[encoded data removed]",
      "text/plain": [
       "<Figure size 432x288 with 1 Axes>"
      ]
     },
     "metadata": {
      "needs_background": "light"
     },
     "output_type": "display_data"
    },
    {
     "name": "stdout",
     "output_type": "stream",
     "text": [
      "(22, 'Night')\n"
     ]
    },
    {
     "data": {
      "image/png": "[encoded data removed]",
      "text/plain": [
       "<Figure size 432x288 with 1 Axes>"
      ]
     },
     "metadata": {
      "needs_background": "light"
     },
     "output_type": "display_data"
    },
    {
     "name": "stdout",
     "output_type": "stream",
     "text": [
      "(22, 'Owl')\n"
     ]
    },
    {
     "data": {
      "image/png": "[encoded data removed]",
      "text/plain": [
       "<Figure size 432x288 with 1 Axes>"
      ]
     },
     "metadata": {
      "needs_background": "light"
     },
     "output_type": "display_data"
    },
    {
     "name": "stdout",
     "output_type": "stream",
     "text": [
      "(22, 'PM Peak')\n"
     ]
    },
    {
     "data": {
      "image/png": "[encoded data removed]",
      "text/plain": [
       "<Figure size 432x288 with 1 Axes>"
      ]
     },
     "metadata": {
      "needs_background": "light"
     },
     "output_type": "display_data"
    },
    {
     "name": "stdout",
     "output_type": "stream",
     "text": [
      "(63, 'AM Peak')\n"
     ]
    },
    {
     "data": {
      "image/png": "[encoded data removed]",
      "text/plain": [
       "<Figure size 432x288 with 1 Axes>"
      ]
     },
     "metadata": {
      "needs_background": "light"
     },
     "output_type": "display_data"
    },
    {
     "name": "stdout",
     "output_type": "stream",
     "text": [
      "(63, 'Early')\n"
     ]
    },
    {
     "data": {
      "image/png": "[encoded data removed]",
      "text/plain": [
       "<Figure size 432x288 with 1 Axes>"
      ]
     },
     "metadata": {
      "needs_background": "light"
     },
     "output_type": "display_data"
    },
    {
     "name": "stdout",
     "output_type": "stream",
     "text": [
      "(63, 'Midday')\n"
     ]
    },
    {
     "data": {
      "image/png": "[encoded data removed]",
      "text/plain": [
       "<Figure size 432x288 with 1 Axes>"
      ]
     },
     "metadata": {
      "needs_background": "light"
     },
     "output_type": "display_data"
    },
    {
     "name": "stdout",
     "output_type": "stream",
     "text": [
      "(63, 'Night')\n"
     ]
    },
    {
     "data": {
      "image/png": "[encoded data removed]",
      "text/plain": [
       "<Figure size 432x288 with 1 Axes>"
      ]
     },
     "metadata": {
      "needs_background": "light"
     },
     "output_type": "display_data"
    },
    {
     "name": "stdout",
     "output_type": "stream",
     "text": [
      "(63, 'Owl')\n"
     ]
    },
    {
     "data": {
      "image/png": "[encoded data removed]",
      "text/plain": [
       "<Figure size 432x288 with 1 Axes>"
      ]
     },
     "metadata": {
      "needs_background": "light"
     },
     "output_type": "display_data"
    },
    {
     "name": "stdout",
     "output_type": "stream",
     "text": [
      "(63, 'PM Peak')\n"
     ]
    },
    {
     "data": {
      "image/png": "[encoded data removed]",
      "text/plain": [
       "<Figure size 432x288 with 1 Axes>"
      ]
     },
     "metadata": {
      "needs_background": "light"
     },
     "output_type": "display_data"
    }
   ],
   "source": [
    "for name, group in rides_by_day_tod.groupby([\"line_id\", \"TOD\"]):\n",
    "    print(name)\n",
    "    group.daily_rides.plot.kde(bw_method=.4)\n",
    "    plt.show()"
   ]
  },
  {
   "cell_type": "markdown",
   "id": "541b146a",
   "metadata": {},
   "source": [
    "Pop Quiz\n",
    "\n",
    "1. 그룹별로 각각 커널밀도함수 분포 확인하기 **(Solved)**\n",
    "1. 조건에 따라서 True, False 부여하는 구문 in Python & Pandas **(Solved)**"
   ]
  },
  {
   "cell_type": "code",
   "execution_count": 227,
   "id": "7e66fd22",
   "metadata": {
    "scrolled": true
   },
   "outputs": [
    {
     "data": {
      "text/plain": [
       "array([ True, False, False, False, False,  True,  True, False, False,\n",
       "       False, False,  True])"
      ]
     },
     "execution_count": 227,
     "metadata": {},
     "output_type": "execute_result"
    }
   ],
   "source": [
    "## Quiz 2 ##\n",
    "weekday_avg_tod.index.isin([\"AM Peak\", \"PM Peak\"], level=1)"
   ]
  },
  {
   "cell_type": "code",
   "execution_count": 188,
   "id": "e71149b0",
   "metadata": {},
   "outputs": [],
   "source": [
    "weekday_avg_tod[\"peak\"] = np.where(weekday_avg_tod.index.isin([\"AM Peak\", \"PM Peak\"], level=1), True, False)"
   ]
  },
  {
   "cell_type": "code",
   "execution_count": 189,
   "id": "4ae2820f",
   "metadata": {},
   "outputs": [
    {
     "data": {
      "text/html": [
       "<div>\n",
       "<style scoped>\n",
       "    .dataframe tbody tr th:only-of-type {\n",
       "        vertical-align: middle;\n",
       "    }\n",
       "\n",
       "    .dataframe tbody tr th {\n",
       "        vertical-align: top;\n",
       "    }\n",
       "\n",
       "    .dataframe thead th {\n",
       "        text-align: right;\n",
       "    }\n",
       "</style>\n",
       "<table border=\"1\" class=\"dataframe\">\n",
       "  <thead>\n",
       "    <tr style=\"text-align: right;\">\n",
       "      <th></th>\n",
       "      <th></th>\n",
       "      <th>weekday_avg</th>\n",
       "      <th>peak</th>\n",
       "    </tr>\n",
       "    <tr>\n",
       "      <th>line_id</th>\n",
       "      <th>TOD</th>\n",
       "      <th></th>\n",
       "      <th></th>\n",
       "    </tr>\n",
       "  </thead>\n",
       "  <tbody>\n",
       "    <tr>\n",
       "      <th rowspan=\"6\" valign=\"top\">22</th>\n",
       "      <th>AM Peak</th>\n",
       "      <td>388.06</td>\n",
       "      <td>True</td>\n",
       "    </tr>\n",
       "    <tr>\n",
       "      <th>Early</th>\n",
       "      <td>71.24</td>\n",
       "      <td>False</td>\n",
       "    </tr>\n",
       "    <tr>\n",
       "      <th>Midday</th>\n",
       "      <td>904.25</td>\n",
       "      <td>False</td>\n",
       "    </tr>\n",
       "    <tr>\n",
       "      <th>Night</th>\n",
       "      <td>411.96</td>\n",
       "      <td>False</td>\n",
       "    </tr>\n",
       "    <tr>\n",
       "      <th>Owl</th>\n",
       "      <td>31.69</td>\n",
       "      <td>False</td>\n",
       "    </tr>\n",
       "    <tr>\n",
       "      <th>PM Peak</th>\n",
       "      <td>674.09</td>\n",
       "      <td>True</td>\n",
       "    </tr>\n",
       "    <tr>\n",
       "      <th rowspan=\"6\" valign=\"top\">63</th>\n",
       "      <th>AM Peak</th>\n",
       "      <td>322.69</td>\n",
       "      <td>True</td>\n",
       "    </tr>\n",
       "    <tr>\n",
       "      <th>Early</th>\n",
       "      <td>60.28</td>\n",
       "      <td>False</td>\n",
       "    </tr>\n",
       "    <tr>\n",
       "      <th>Midday</th>\n",
       "      <td>775.33</td>\n",
       "      <td>False</td>\n",
       "    </tr>\n",
       "    <tr>\n",
       "      <th>Night</th>\n",
       "      <td>306.44</td>\n",
       "      <td>False</td>\n",
       "    </tr>\n",
       "    <tr>\n",
       "      <th>Owl</th>\n",
       "      <td>20.97</td>\n",
       "      <td>False</td>\n",
       "    </tr>\n",
       "    <tr>\n",
       "      <th>PM Peak</th>\n",
       "      <td>558.89</td>\n",
       "      <td>True</td>\n",
       "    </tr>\n",
       "  </tbody>\n",
       "</table>\n",
       "</div>"
      ],
      "text/plain": [
       "                 weekday_avg   peak\n",
       "line_id TOD                        \n",
       "22      AM Peak       388.06   True\n",
       "        Early          71.24  False\n",
       "        Midday        904.25  False\n",
       "        Night         411.96  False\n",
       "        Owl            31.69  False\n",
       "        PM Peak       674.09   True\n",
       "63      AM Peak       322.69   True\n",
       "        Early          60.28  False\n",
       "        Midday        775.33  False\n",
       "        Night         306.44  False\n",
       "        Owl            20.97  False\n",
       "        PM Peak       558.89   True"
      ]
     },
     "execution_count": 189,
     "metadata": {},
     "output_type": "execute_result"
    }
   ],
   "source": [
    "weekday_avg_tod"
   ]
  },
  {
   "cell_type": "code",
   "execution_count": 190,
   "id": "4d7452fa",
   "metadata": {},
   "outputs": [
    {
     "data": {
      "text/html": [
       "<div>\n",
       "<style scoped>\n",
       "    .dataframe tbody tr th:only-of-type {\n",
       "        vertical-align: middle;\n",
       "    }\n",
       "\n",
       "    .dataframe tbody tr th {\n",
       "        vertical-align: top;\n",
       "    }\n",
       "\n",
       "    .dataframe thead th {\n",
       "        text-align: right;\n",
       "    }\n",
       "</style>\n",
       "<table border=\"1\" class=\"dataframe\">\n",
       "  <thead>\n",
       "    <tr style=\"text-align: right;\">\n",
       "      <th></th>\n",
       "      <th>total_counts</th>\n",
       "    </tr>\n",
       "    <tr>\n",
       "      <th>peak</th>\n",
       "      <th></th>\n",
       "    </tr>\n",
       "  </thead>\n",
       "  <tbody>\n",
       "    <tr>\n",
       "      <th>False</th>\n",
       "      <td>2,582.16</td>\n",
       "    </tr>\n",
       "    <tr>\n",
       "      <th>True</th>\n",
       "      <td>1,943.73</td>\n",
       "    </tr>\n",
       "  </tbody>\n",
       "</table>\n",
       "</div>"
      ],
      "text/plain": [
       "       total_counts\n",
       "peak               \n",
       "False      2,582.16\n",
       "True       1,943.73"
      ]
     },
     "execution_count": 190,
     "metadata": {},
     "output_type": "execute_result"
    }
   ],
   "source": [
    "weekday_avg_tod.groupby(\"peak\").agg(\\\n",
    "                                total_counts=pd.NamedAgg(column=\"weekday_avg\", aggfunc=\"sum\"))"
   ]
  },
  {
   "cell_type": "markdown",
   "id": "b01c5bdb",
   "metadata": {},
   "source": [
    "## 3. Sketch a graph of a ridership timeseries"
   ]
  },
  {
   "cell_type": "code",
   "execution_count": 191,
   "id": "be681605",
   "metadata": {},
   "outputs": [
    {
     "data": {
      "text/html": [
       "<div>\n",
       "<style scoped>\n",
       "    .dataframe tbody tr th:only-of-type {\n",
       "        vertical-align: middle;\n",
       "    }\n",
       "\n",
       "    .dataframe tbody tr th {\n",
       "        vertical-align: top;\n",
       "    }\n",
       "\n",
       "    .dataframe thead th {\n",
       "        text-align: right;\n",
       "    }\n",
       "</style>\n",
       "<table border=\"1\" class=\"dataframe\">\n",
       "  <thead>\n",
       "    <tr style=\"text-align: right;\">\n",
       "      <th></th>\n",
       "      <th></th>\n",
       "      <th>avg_wkday</th>\n",
       "    </tr>\n",
       "    <tr>\n",
       "      <th>calendar_date</th>\n",
       "      <th>line_id</th>\n",
       "      <th></th>\n",
       "    </tr>\n",
       "  </thead>\n",
       "  <tbody>\n",
       "    <tr>\n",
       "      <th rowspan=\"2\" valign=\"top\">2021-01-04</th>\n",
       "      <th>22</th>\n",
       "      <td>2,151.00</td>\n",
       "    </tr>\n",
       "    <tr>\n",
       "      <th>63</th>\n",
       "      <td>1,850.00</td>\n",
       "    </tr>\n",
       "    <tr>\n",
       "      <th rowspan=\"2\" valign=\"top\">2021-01-05</th>\n",
       "      <th>22</th>\n",
       "      <td>1,818.00</td>\n",
       "    </tr>\n",
       "    <tr>\n",
       "      <th>63</th>\n",
       "      <td>1,645.00</td>\n",
       "    </tr>\n",
       "    <tr>\n",
       "      <th>2021-01-06</th>\n",
       "      <th>22</th>\n",
       "      <td>1,971.00</td>\n",
       "    </tr>\n",
       "    <tr>\n",
       "      <th>...</th>\n",
       "      <th>...</th>\n",
       "      <td>...</td>\n",
       "    </tr>\n",
       "    <tr>\n",
       "      <th>2021-12-29</th>\n",
       "      <th>63</th>\n",
       "      <td>1,558.00</td>\n",
       "    </tr>\n",
       "    <tr>\n",
       "      <th rowspan=\"2\" valign=\"top\">2021-12-30</th>\n",
       "      <th>22</th>\n",
       "      <td>2,092.00</td>\n",
       "    </tr>\n",
       "    <tr>\n",
       "      <th>63</th>\n",
       "      <td>1,582.00</td>\n",
       "    </tr>\n",
       "    <tr>\n",
       "      <th rowspan=\"2\" valign=\"top\">2021-12-31</th>\n",
       "      <th>22</th>\n",
       "      <td>1,822.00</td>\n",
       "    </tr>\n",
       "    <tr>\n",
       "      <th>63</th>\n",
       "      <td>1,272.00</td>\n",
       "    </tr>\n",
       "  </tbody>\n",
       "</table>\n",
       "<p>510 rows × 1 columns</p>\n",
       "</div>"
      ],
      "text/plain": [
       "                       avg_wkday\n",
       "calendar_date line_id           \n",
       "2021-01-04    22        2,151.00\n",
       "              63        1,850.00\n",
       "2021-01-05    22        1,818.00\n",
       "              63        1,645.00\n",
       "2021-01-06    22        1,971.00\n",
       "...                          ...\n",
       "2021-12-29    63        1,558.00\n",
       "2021-12-30    22        2,092.00\n",
       "              63        1,582.00\n",
       "2021-12-31    22        1,822.00\n",
       "              63        1,272.00\n",
       "\n",
       "[510 rows x 1 columns]"
      ]
     },
     "execution_count": 191,
     "metadata": {},
     "output_type": "execute_result"
    }
   ],
   "source": [
    "rides_by_day.groupby([\"calendar_date\", \"line_id\"]).agg(\\\n",
    "                                                   avg_wkday=pd.NamedAgg(column=\"daily_rides\", aggfunc=\"mean\"))"
   ]
  },
  {
   "cell_type": "code",
   "execution_count": 211,
   "id": "34c58d0a",
   "metadata": {},
   "outputs": [],
   "source": [
    "new_rides_by_day = rides_by_day.reset_index()"
   ]
  },
  {
   "cell_type": "code",
   "execution_count": 212,
   "id": "eb8877b7",
   "metadata": {},
   "outputs": [],
   "source": [
    "new_rides_by_day.calendar_date = pd.to_datetime(new_rides_by_day.calendar_date)"
   ]
  },
  {
   "cell_type": "code",
   "execution_count": 216,
   "id": "f40250d4",
   "metadata": {},
   "outputs": [],
   "source": [
    "new_rides_by_day[\"month\"] = new_rides_by_day.calendar_date.apply(lambda x: x.month)"
   ]
  },
  {
   "cell_type": "code",
   "execution_count": 217,
   "id": "3bde6dd4",
   "metadata": {},
   "outputs": [
    {
     "data": {
      "text/html": [
       "<div>\n",
       "<style scoped>\n",
       "    .dataframe tbody tr th:only-of-type {\n",
       "        vertical-align: middle;\n",
       "    }\n",
       "\n",
       "    .dataframe tbody tr th {\n",
       "        vertical-align: top;\n",
       "    }\n",
       "\n",
       "    .dataframe thead th {\n",
       "        text-align: right;\n",
       "    }\n",
       "</style>\n",
       "<table border=\"1\" class=\"dataframe\">\n",
       "  <thead>\n",
       "    <tr style=\"text-align: right;\">\n",
       "      <th></th>\n",
       "      <th>calendar_date</th>\n",
       "      <th>line_id</th>\n",
       "      <th>daily_rides</th>\n",
       "      <th>month</th>\n",
       "    </tr>\n",
       "  </thead>\n",
       "  <tbody>\n",
       "    <tr>\n",
       "      <th>0</th>\n",
       "      <td>2021-01-04</td>\n",
       "      <td>22</td>\n",
       "      <td>2151</td>\n",
       "      <td>1</td>\n",
       "    </tr>\n",
       "    <tr>\n",
       "      <th>1</th>\n",
       "      <td>2021-01-04</td>\n",
       "      <td>63</td>\n",
       "      <td>1850</td>\n",
       "      <td>1</td>\n",
       "    </tr>\n",
       "    <tr>\n",
       "      <th>2</th>\n",
       "      <td>2021-01-05</td>\n",
       "      <td>22</td>\n",
       "      <td>1818</td>\n",
       "      <td>1</td>\n",
       "    </tr>\n",
       "    <tr>\n",
       "      <th>3</th>\n",
       "      <td>2021-01-05</td>\n",
       "      <td>63</td>\n",
       "      <td>1645</td>\n",
       "      <td>1</td>\n",
       "    </tr>\n",
       "    <tr>\n",
       "      <th>4</th>\n",
       "      <td>2021-01-06</td>\n",
       "      <td>22</td>\n",
       "      <td>1971</td>\n",
       "      <td>1</td>\n",
       "    </tr>\n",
       "    <tr>\n",
       "      <th>...</th>\n",
       "      <td>...</td>\n",
       "      <td>...</td>\n",
       "      <td>...</td>\n",
       "      <td>...</td>\n",
       "    </tr>\n",
       "    <tr>\n",
       "      <th>505</th>\n",
       "      <td>2021-12-29</td>\n",
       "      <td>63</td>\n",
       "      <td>1558</td>\n",
       "      <td>12</td>\n",
       "    </tr>\n",
       "    <tr>\n",
       "      <th>506</th>\n",
       "      <td>2021-12-30</td>\n",
       "      <td>22</td>\n",
       "      <td>2092</td>\n",
       "      <td>12</td>\n",
       "    </tr>\n",
       "    <tr>\n",
       "      <th>507</th>\n",
       "      <td>2021-12-30</td>\n",
       "      <td>63</td>\n",
       "      <td>1582</td>\n",
       "      <td>12</td>\n",
       "    </tr>\n",
       "    <tr>\n",
       "      <th>508</th>\n",
       "      <td>2021-12-31</td>\n",
       "      <td>22</td>\n",
       "      <td>1822</td>\n",
       "      <td>12</td>\n",
       "    </tr>\n",
       "    <tr>\n",
       "      <th>509</th>\n",
       "      <td>2021-12-31</td>\n",
       "      <td>63</td>\n",
       "      <td>1272</td>\n",
       "      <td>12</td>\n",
       "    </tr>\n",
       "  </tbody>\n",
       "</table>\n",
       "<p>510 rows × 4 columns</p>\n",
       "</div>"
      ],
      "text/plain": [
       "    calendar_date  line_id  daily_rides  month\n",
       "0      2021-01-04       22         2151      1\n",
       "1      2021-01-04       63         1850      1\n",
       "2      2021-01-05       22         1818      1\n",
       "3      2021-01-05       63         1645      1\n",
       "4      2021-01-06       22         1971      1\n",
       "..            ...      ...          ...    ...\n",
       "505    2021-12-29       63         1558     12\n",
       "506    2021-12-30       22         2092     12\n",
       "507    2021-12-30       63         1582     12\n",
       "508    2021-12-31       22         1822     12\n",
       "509    2021-12-31       63         1272     12\n",
       "\n",
       "[510 rows x 4 columns]"
      ]
     },
     "execution_count": 217,
     "metadata": {},
     "output_type": "execute_result"
    }
   ],
   "source": [
    "new_rides_by_day"
   ]
  },
  {
   "cell_type": "code",
   "execution_count": 233,
   "id": "91a11dbf",
   "metadata": {},
   "outputs": [],
   "source": [
    "toplot = new_rides_by_day.groupby([\"month\", \"line_id\"]).agg(\\\n",
    "                        avg_wkday=pd.NamedAgg(column=\"daily_rides\", aggfunc=\"mean\"))"
   ]
  },
  {
   "cell_type": "code",
   "execution_count": 234,
   "id": "b1fdd0ec",
   "metadata": {},
   "outputs": [
    {
     "data": {
      "text/html": [
       "<div>\n",
       "<style scoped>\n",
       "    .dataframe tbody tr th:only-of-type {\n",
       "        vertical-align: middle;\n",
       "    }\n",
       "\n",
       "    .dataframe tbody tr th {\n",
       "        vertical-align: top;\n",
       "    }\n",
       "\n",
       "    .dataframe thead th {\n",
       "        text-align: right;\n",
       "    }\n",
       "</style>\n",
       "<table border=\"1\" class=\"dataframe\">\n",
       "  <thead>\n",
       "    <tr style=\"text-align: right;\">\n",
       "      <th></th>\n",
       "      <th></th>\n",
       "      <th>avg_wkday</th>\n",
       "    </tr>\n",
       "    <tr>\n",
       "      <th>month</th>\n",
       "      <th>line_id</th>\n",
       "      <th></th>\n",
       "    </tr>\n",
       "  </thead>\n",
       "  <tbody>\n",
       "    <tr>\n",
       "      <th rowspan=\"2\" valign=\"top\">1</th>\n",
       "      <th>22</th>\n",
       "      <td>1,904.80</td>\n",
       "    </tr>\n",
       "    <tr>\n",
       "      <th>63</th>\n",
       "      <td>1,516.10</td>\n",
       "    </tr>\n",
       "    <tr>\n",
       "      <th rowspan=\"2\" valign=\"top\">2</th>\n",
       "      <th>22</th>\n",
       "      <td>1,842.00</td>\n",
       "    </tr>\n",
       "    <tr>\n",
       "      <th>63</th>\n",
       "      <td>1,462.35</td>\n",
       "    </tr>\n",
       "    <tr>\n",
       "      <th rowspan=\"2\" valign=\"top\">3</th>\n",
       "      <th>22</th>\n",
       "      <td>2,005.70</td>\n",
       "    </tr>\n",
       "    <tr>\n",
       "      <th>63</th>\n",
       "      <td>1,745.70</td>\n",
       "    </tr>\n",
       "    <tr>\n",
       "      <th rowspan=\"2\" valign=\"top\">4</th>\n",
       "      <th>22</th>\n",
       "      <td>2,168.95</td>\n",
       "    </tr>\n",
       "    <tr>\n",
       "      <th>63</th>\n",
       "      <td>1,918.41</td>\n",
       "    </tr>\n",
       "    <tr>\n",
       "      <th rowspan=\"2\" valign=\"top\">5</th>\n",
       "      <th>22</th>\n",
       "      <td>2,334.65</td>\n",
       "    </tr>\n",
       "    <tr>\n",
       "      <th>63</th>\n",
       "      <td>1,864.70</td>\n",
       "    </tr>\n",
       "    <tr>\n",
       "      <th rowspan=\"2\" valign=\"top\">6</th>\n",
       "      <th>22</th>\n",
       "      <td>2,512.82</td>\n",
       "    </tr>\n",
       "    <tr>\n",
       "      <th>63</th>\n",
       "      <td>1,924.18</td>\n",
       "    </tr>\n",
       "    <tr>\n",
       "      <th rowspan=\"2\" valign=\"top\">7</th>\n",
       "      <th>22</th>\n",
       "      <td>2,565.50</td>\n",
       "    </tr>\n",
       "    <tr>\n",
       "      <th>63</th>\n",
       "      <td>1,992.27</td>\n",
       "    </tr>\n",
       "    <tr>\n",
       "      <th rowspan=\"2\" valign=\"top\">8</th>\n",
       "      <th>22</th>\n",
       "      <td>2,621.82</td>\n",
       "    </tr>\n",
       "    <tr>\n",
       "      <th>63</th>\n",
       "      <td>2,036.77</td>\n",
       "    </tr>\n",
       "    <tr>\n",
       "      <th rowspan=\"2\" valign=\"top\">9</th>\n",
       "      <th>22</th>\n",
       "      <td>3,100.05</td>\n",
       "    </tr>\n",
       "    <tr>\n",
       "      <th>63</th>\n",
       "      <td>2,696.81</td>\n",
       "    </tr>\n",
       "    <tr>\n",
       "      <th rowspan=\"2\" valign=\"top\">10</th>\n",
       "      <th>22</th>\n",
       "      <td>3,102.76</td>\n",
       "    </tr>\n",
       "    <tr>\n",
       "      <th>63</th>\n",
       "      <td>2,676.81</td>\n",
       "    </tr>\n",
       "    <tr>\n",
       "      <th rowspan=\"2\" valign=\"top\">11</th>\n",
       "      <th>22</th>\n",
       "      <td>3,014.85</td>\n",
       "    </tr>\n",
       "    <tr>\n",
       "      <th>63</th>\n",
       "      <td>2,483.85</td>\n",
       "    </tr>\n",
       "    <tr>\n",
       "      <th rowspan=\"2\" valign=\"top\">12</th>\n",
       "      <th>22</th>\n",
       "      <td>2,604.18</td>\n",
       "    </tr>\n",
       "    <tr>\n",
       "      <th>63</th>\n",
       "      <td>2,211.86</td>\n",
       "    </tr>\n",
       "  </tbody>\n",
       "</table>\n",
       "</div>"
      ],
      "text/plain": [
       "               avg_wkday\n",
       "month line_id           \n",
       "1     22        1,904.80\n",
       "      63        1,516.10\n",
       "2     22        1,842.00\n",
       "      63        1,462.35\n",
       "3     22        2,005.70\n",
       "      63        1,745.70\n",
       "4     22        2,168.95\n",
       "      63        1,918.41\n",
       "5     22        2,334.65\n",
       "      63        1,864.70\n",
       "6     22        2,512.82\n",
       "      63        1,924.18\n",
       "7     22        2,565.50\n",
       "      63        1,992.27\n",
       "8     22        2,621.82\n",
       "      63        2,036.77\n",
       "9     22        3,100.05\n",
       "      63        2,696.81\n",
       "10    22        3,102.76\n",
       "      63        2,676.81\n",
       "11    22        3,014.85\n",
       "      63        2,483.85\n",
       "12    22        2,604.18\n",
       "      63        2,211.86"
      ]
     },
     "execution_count": 234,
     "metadata": {},
     "output_type": "execute_result"
    }
   ],
   "source": [
    "toplot"
   ]
  },
  {
   "cell_type": "code",
   "execution_count": 251,
   "id": "a81f596f",
   "metadata": {},
   "outputs": [
    {
     "data": {
      "text/html": [
       "<div>\n",
       "<style scoped>\n",
       "    .dataframe tbody tr th:only-of-type {\n",
       "        vertical-align: middle;\n",
       "    }\n",
       "\n",
       "    .dataframe tbody tr th {\n",
       "        vertical-align: top;\n",
       "    }\n",
       "\n",
       "    .dataframe thead th {\n",
       "        text-align: right;\n",
       "    }\n",
       "</style>\n",
       "<table border=\"1\" class=\"dataframe\">\n",
       "  <thead>\n",
       "    <tr style=\"text-align: right;\">\n",
       "      <th></th>\n",
       "      <th></th>\n",
       "      <th>avg_wkday</th>\n",
       "    </tr>\n",
       "    <tr>\n",
       "      <th>month</th>\n",
       "      <th>line_id</th>\n",
       "      <th></th>\n",
       "    </tr>\n",
       "  </thead>\n",
       "  <tbody>\n",
       "    <tr>\n",
       "      <th>1</th>\n",
       "      <th>63</th>\n",
       "      <td>1,516.10</td>\n",
       "    </tr>\n",
       "    <tr>\n",
       "      <th>2</th>\n",
       "      <th>63</th>\n",
       "      <td>1,462.35</td>\n",
       "    </tr>\n",
       "    <tr>\n",
       "      <th>3</th>\n",
       "      <th>63</th>\n",
       "      <td>1,745.70</td>\n",
       "    </tr>\n",
       "    <tr>\n",
       "      <th>4</th>\n",
       "      <th>63</th>\n",
       "      <td>1,918.41</td>\n",
       "    </tr>\n",
       "    <tr>\n",
       "      <th>5</th>\n",
       "      <th>63</th>\n",
       "      <td>1,864.70</td>\n",
       "    </tr>\n",
       "    <tr>\n",
       "      <th>6</th>\n",
       "      <th>63</th>\n",
       "      <td>1,924.18</td>\n",
       "    </tr>\n",
       "    <tr>\n",
       "      <th>7</th>\n",
       "      <th>63</th>\n",
       "      <td>1,992.27</td>\n",
       "    </tr>\n",
       "    <tr>\n",
       "      <th>8</th>\n",
       "      <th>63</th>\n",
       "      <td>2,036.77</td>\n",
       "    </tr>\n",
       "    <tr>\n",
       "      <th>9</th>\n",
       "      <th>63</th>\n",
       "      <td>2,696.81</td>\n",
       "    </tr>\n",
       "    <tr>\n",
       "      <th>10</th>\n",
       "      <th>63</th>\n",
       "      <td>2,676.81</td>\n",
       "    </tr>\n",
       "    <tr>\n",
       "      <th>11</th>\n",
       "      <th>63</th>\n",
       "      <td>2,483.85</td>\n",
       "    </tr>\n",
       "    <tr>\n",
       "      <th>12</th>\n",
       "      <th>63</th>\n",
       "      <td>2,211.86</td>\n",
       "    </tr>\n",
       "  </tbody>\n",
       "</table>\n",
       "</div>"
      ],
      "text/plain": [
       "               avg_wkday\n",
       "month line_id           \n",
       "1     63        1,516.10\n",
       "2     63        1,462.35\n",
       "3     63        1,745.70\n",
       "4     63        1,918.41\n",
       "5     63        1,864.70\n",
       "6     63        1,924.18\n",
       "7     63        1,992.27\n",
       "8     63        2,036.77\n",
       "9     63        2,696.81\n",
       "10    63        2,676.81\n",
       "11    63        2,483.85\n",
       "12    63        2,211.86"
      ]
     },
     "execution_count": 251,
     "metadata": {},
     "output_type": "execute_result"
    }
   ],
   "source": [
    "# line 63\n",
    "toplot.loc[(slice(None), 63), :]"
   ]
  },
  {
   "cell_type": "code",
   "execution_count": 258,
   "id": "f81043a9",
   "metadata": {},
   "outputs": [
    {
     "data": {
      "image/png": "[encoded data removed]",
      "text/plain": [
       "<Figure size 432x288 with 1 Axes>"
      ]
     },
     "metadata": {
      "needs_background": "light"
     },
     "output_type": "display_data"
    }
   ],
   "source": [
    "plt.plot(toplot.loc[(slice(None), 22), :].droplevel(1), label=\"Line 22\")\n",
    "plt.plot(toplot.loc[(slice(None), 63), :].droplevel(1), label=\"Line 63\")\n",
    "plt.xticks(range(1, 13))\n",
    "plt.yticks(range(1500, 3100, 500))\n",
    "plt.grid(which=\"major\", axis='both')\n",
    "plt.legend()\n",
    "plt.show()"
   ]
  }
 ],
 "metadata": {
  "kernelspec": {
   "display_name": "Python 3 (ipykernel)",
   "language": "python",
   "name": "python3"
  },
  "language_info": {
   "codemirror_mode": {
    "name": "ipython",
    "version": 3
   },
   "file_extension": ".py",
   "mimetype": "text/x-python",
   "name": "python",
   "nbconvert_exporter": "python",
   "pygments_lexer": "ipython3",
   "version": "3.10.6"
  }
 },
 "nbformat": 4,
 "nbformat_minor": 5
}
